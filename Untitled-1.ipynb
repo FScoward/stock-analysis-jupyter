{
 "cells": [
  {
   "cell_type": "code",
   "execution_count": 18,
   "metadata": {},
   "outputs": [],
   "source": [
    "import pandas_datareader.data as web\n",
    "import datetime as dt\n",
    "import os\n",
    "import yfinance as yf\n",
    "import pandas as pd"
   ]
  },
  {
   "cell_type": "code",
   "execution_count": 27,
   "metadata": {},
   "outputs": [
    {
     "name": "stdout",
     "output_type": "stream",
     "text": [
      "今日は過去最高値を更新していません\n"
     ]
    }
   ],
   "source": [
    "ticker = '9974.T'\n",
    "start = dt.datetime(2021, 5, 1)\n",
    "end = dt.datetime(2023, 5, 31)\n",
    "# yf.Ticker(ticker).history(start=start, end=end).to_csv('data.csv')\n",
    "# pandasで扱えるようにする\n",
    "df = pd.read_csv('data.csv', index_col='Date', parse_dates=True)\n",
    "\n",
    "high_price = df['High'].max()\n",
    "today_price = df['High'][-1]\n",
    "\n",
    "# 今日の高値が過去最高値を更新したら\n",
    "if today_price > high_price:\n",
    "    print('今日は過去最高値を更新しました')\n",
    "else:\n",
    "    print('今日は過去最高値を更新していません')\n",
    "    \n"
   ]
  }
 ],
 "metadata": {
  "kernelspec": {
   "display_name": ".venv",
   "language": "python",
   "name": "python3"
  },
  "language_info": {
   "codemirror_mode": {
    "name": "ipython",
    "version": 3
   },
   "file_extension": ".py",
   "mimetype": "text/x-python",
   "name": "python",
   "nbconvert_exporter": "python",
   "pygments_lexer": "ipython3",
   "version": "3.11.3"
  },
  "orig_nbformat": 4
 },
 "nbformat": 4,
 "nbformat_minor": 2
}
